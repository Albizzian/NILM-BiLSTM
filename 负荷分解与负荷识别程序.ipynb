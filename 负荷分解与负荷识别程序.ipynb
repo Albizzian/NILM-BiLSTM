{
 "cells": [
  {
   "cell_type": "code",
   "execution_count": 1,
   "id": "3c96a2c5",
   "metadata": {},
   "outputs": [
    {
     "name": "stderr",
     "output_type": "stream",
     "text": [
      "Using TensorFlow backend.\n"
     ]
    }
   ],
   "source": [
    "import matplotlib.pyplot as plt\n",
    "import tensorflow as tf\n",
    "import random\n",
    "import numpy as np\n",
    "import pandas as pd\n",
    "from math import ceil\n",
    "from scipy import stats\n",
    "from tensorflow.keras import layers\n",
    "from tensorflow.keras.models import Sequential\n",
    "from tensorflow.keras.optimizers import RMSprop,Adam\n",
    "from tensorflow.keras.models import load_model\n",
    "from nilmtk import DataSet\n",
    "import keras_metrics as km\n",
    "from keras import backend as K\n",
    "from keras.callbacks import ModelCheckpoint"
   ]
  },
  {
   "cell_type": "code",
   "execution_count": 2,
   "id": "e107ac98",
   "metadata": {},
   "outputs": [],
   "source": [
    "# 定义各变量\n",
    "threshold=10\n",
    "dimension=5\n",
    "start='2012-11-9'\n",
    "end='2013-5-15' #约160,0000个数据\n",
    "\n",
    "train_start='2012-11-9'\n",
    "train_end='2013-3-9'\n",
    "\n",
    "val_start='2013-3-10'\n",
    "val_end='2013-4-10'\n",
    "\n",
    "test_start='2013-4-11'\n",
    "test_end='2013-5-15'"
   ]
  },
  {
   "cell_type": "code",
   "execution_count": 3,
   "id": "d992818a",
   "metadata": {},
   "outputs": [
    {
     "ename": "OSError",
     "evalue": "No such file as D:\\学习资料\\课程学习资料\\大四\\毕业设计\\NILM算法\\数据库\\ukdale.h5",
     "output_type": "error",
     "traceback": [
      "\u001b[1;31m---------------------------------------------------------------------------\u001b[0m",
      "\u001b[1;31mOSError\u001b[0m                                   Traceback (most recent call last)",
      "\u001b[1;32m<ipython-input-3-d591d0e33fb2>\u001b[0m in \u001b[0;36m<module>\u001b[1;34m()\u001b[0m\n\u001b[0;32m      1\u001b[0m \u001b[1;31m#加载数据\u001b[0m\u001b[1;33m\u001b[0m\u001b[1;33m\u001b[0m\u001b[1;33m\u001b[0m\u001b[0m\n\u001b[1;32m----> 2\u001b[1;33m \u001b[0mdata\u001b[0m\u001b[1;33m=\u001b[0m\u001b[0mDataSet\u001b[0m\u001b[1;33m(\u001b[0m\u001b[1;34m'D:\\\\学习资料\\\\课程学习资料\\\\大四\\\\毕业设计\\\\NILM算法\\\\数据库\\\\ukdale.h5'\u001b[0m\u001b[1;33m)\u001b[0m\u001b[1;33m\u001b[0m\u001b[1;33m\u001b[0m\u001b[0m\n\u001b[0m\u001b[0;32m      3\u001b[0m \u001b[0mdata\u001b[0m\u001b[1;33m.\u001b[0m\u001b[0mset_window\u001b[0m\u001b[1;33m(\u001b[0m\u001b[0mstart\u001b[0m\u001b[1;33m=\u001b[0m\u001b[1;34m\"2012-11-9\"\u001b[0m\u001b[1;33m,\u001b[0m\u001b[0mend\u001b[0m\u001b[1;33m=\u001b[0m\u001b[1;34m\"2013-5-15\"\u001b[0m\u001b[1;33m)\u001b[0m\u001b[1;33m\u001b[0m\u001b[1;33m\u001b[0m\u001b[0m\n\u001b[0;32m      4\u001b[0m \u001b[0melec\u001b[0m\u001b[1;33m=\u001b[0m\u001b[0mdata\u001b[0m\u001b[1;33m.\u001b[0m\u001b[0mbuildings\u001b[0m\u001b[1;33m[\u001b[0m\u001b[1;36m1\u001b[0m\u001b[1;33m]\u001b[0m\u001b[1;33m.\u001b[0m\u001b[0melec\u001b[0m\u001b[1;33m\u001b[0m\u001b[1;33m\u001b[0m\u001b[0m\n\u001b[0;32m      5\u001b[0m \u001b[0mfridge\u001b[0m\u001b[1;33m=\u001b[0m\u001b[0melec\u001b[0m\u001b[1;33m[\u001b[0m\u001b[1;34m'fridge'\u001b[0m\u001b[1;33m]\u001b[0m\u001b[1;33m\u001b[0m\u001b[1;33m\u001b[0m\u001b[0m\n",
      "\u001b[1;32mC:\\Users\\Albizzia\\miniconda3\\envs\\nilmtk-env\\lib\\site-packages\\nilmtk\\dataset.py\u001b[0m in \u001b[0;36m__init__\u001b[1;34m(self, filename, format)\u001b[0m\n\u001b[0;32m     43\u001b[0m         \u001b[0mself\u001b[0m\u001b[1;33m.\u001b[0m\u001b[0mmetadata\u001b[0m \u001b[1;33m=\u001b[0m \u001b[1;33m{\u001b[0m\u001b[1;33m}\u001b[0m\u001b[1;33m\u001b[0m\u001b[1;33m\u001b[0m\u001b[0m\n\u001b[0;32m     44\u001b[0m         \u001b[1;32mif\u001b[0m \u001b[0mfilename\u001b[0m \u001b[1;32mis\u001b[0m \u001b[1;32mnot\u001b[0m \u001b[1;32mNone\u001b[0m\u001b[1;33m:\u001b[0m\u001b[1;33m\u001b[0m\u001b[1;33m\u001b[0m\u001b[0m\n\u001b[1;32m---> 45\u001b[1;33m             \u001b[0mself\u001b[0m\u001b[1;33m.\u001b[0m\u001b[0mimport_metadata\u001b[0m\u001b[1;33m(\u001b[0m\u001b[0mget_datastore\u001b[0m\u001b[1;33m(\u001b[0m\u001b[0mfilename\u001b[0m\u001b[1;33m,\u001b[0m \u001b[0mformat\u001b[0m\u001b[1;33m)\u001b[0m\u001b[1;33m)\u001b[0m\u001b[1;33m\u001b[0m\u001b[1;33m\u001b[0m\u001b[0m\n\u001b[0m\u001b[0;32m     46\u001b[0m \u001b[1;33m\u001b[0m\u001b[0m\n\u001b[0;32m     47\u001b[0m     \u001b[1;32mdef\u001b[0m \u001b[0mimport_metadata\u001b[0m\u001b[1;33m(\u001b[0m\u001b[0mself\u001b[0m\u001b[1;33m,\u001b[0m \u001b[0mstore\u001b[0m\u001b[1;33m)\u001b[0m\u001b[1;33m:\u001b[0m\u001b[1;33m\u001b[0m\u001b[1;33m\u001b[0m\u001b[0m\n",
      "\u001b[1;32mC:\\Users\\Albizzia\\miniconda3\\envs\\nilmtk-env\\lib\\site-packages\\nilmtk\\utils.py\u001b[0m in \u001b[0;36mget_datastore\u001b[1;34m(filename, format, mode)\u001b[0m\n\u001b[0;32m    321\u001b[0m     \u001b[1;32mif\u001b[0m \u001b[0mfilename\u001b[0m \u001b[1;32mis\u001b[0m \u001b[1;32mnot\u001b[0m \u001b[1;32mNone\u001b[0m\u001b[1;33m:\u001b[0m\u001b[1;33m\u001b[0m\u001b[1;33m\u001b[0m\u001b[0m\n\u001b[0;32m    322\u001b[0m         \u001b[1;32mif\u001b[0m \u001b[0mformat\u001b[0m \u001b[1;33m==\u001b[0m \u001b[1;34m\"HDF\"\u001b[0m\u001b[1;33m:\u001b[0m\u001b[1;33m\u001b[0m\u001b[1;33m\u001b[0m\u001b[0m\n\u001b[1;32m--> 323\u001b[1;33m             \u001b[1;32mreturn\u001b[0m \u001b[0mHDFDataStore\u001b[0m\u001b[1;33m(\u001b[0m\u001b[0mfilename\u001b[0m\u001b[1;33m,\u001b[0m \u001b[0mmode\u001b[0m\u001b[1;33m)\u001b[0m\u001b[1;33m\u001b[0m\u001b[1;33m\u001b[0m\u001b[0m\n\u001b[0m\u001b[0;32m    324\u001b[0m         \u001b[1;32melif\u001b[0m \u001b[0mformat\u001b[0m \u001b[1;33m==\u001b[0m \u001b[1;34m\"CSV\"\u001b[0m\u001b[1;33m:\u001b[0m\u001b[1;33m\u001b[0m\u001b[1;33m\u001b[0m\u001b[0m\n\u001b[0;32m    325\u001b[0m             \u001b[1;32mreturn\u001b[0m \u001b[0mCSVDataStore\u001b[0m\u001b[1;33m(\u001b[0m\u001b[0mfilename\u001b[0m\u001b[1;33m)\u001b[0m\u001b[1;33m\u001b[0m\u001b[1;33m\u001b[0m\u001b[0m\n",
      "\u001b[1;32mC:\\Users\\Albizzia\\miniconda3\\envs\\nilmtk-env\\lib\\site-packages\\nilmtk\\docinherit.py\u001b[0m in \u001b[0;36mf\u001b[1;34m(*args, **kwargs)\u001b[0m\n\u001b[0;32m     51\u001b[0m         \u001b[1;32mdef\u001b[0m \u001b[0mf\u001b[0m\u001b[1;33m(\u001b[0m\u001b[1;33m*\u001b[0m\u001b[0margs\u001b[0m\u001b[1;33m,\u001b[0m \u001b[1;33m**\u001b[0m\u001b[0mkwargs\u001b[0m\u001b[1;33m)\u001b[0m\u001b[1;33m:\u001b[0m\u001b[1;33m\u001b[0m\u001b[1;33m\u001b[0m\u001b[0m\n\u001b[0;32m     52\u001b[0m             \u001b[1;32mif\u001b[0m \u001b[0mobj\u001b[0m\u001b[1;33m:\u001b[0m\u001b[1;33m\u001b[0m\u001b[1;33m\u001b[0m\u001b[0m\n\u001b[1;32m---> 53\u001b[1;33m                 \u001b[1;32mreturn\u001b[0m \u001b[0mself\u001b[0m\u001b[1;33m.\u001b[0m\u001b[0mmthd\u001b[0m\u001b[1;33m(\u001b[0m\u001b[0mobj\u001b[0m\u001b[1;33m,\u001b[0m \u001b[1;33m*\u001b[0m\u001b[0margs\u001b[0m\u001b[1;33m,\u001b[0m \u001b[1;33m**\u001b[0m\u001b[0mkwargs\u001b[0m\u001b[1;33m)\u001b[0m\u001b[1;33m\u001b[0m\u001b[1;33m\u001b[0m\u001b[0m\n\u001b[0m\u001b[0;32m     54\u001b[0m             \u001b[1;32melse\u001b[0m\u001b[1;33m:\u001b[0m\u001b[1;33m\u001b[0m\u001b[1;33m\u001b[0m\u001b[0m\n\u001b[0;32m     55\u001b[0m                 \u001b[1;32mreturn\u001b[0m \u001b[0mself\u001b[0m\u001b[1;33m.\u001b[0m\u001b[0mmthd\u001b[0m\u001b[1;33m(\u001b[0m\u001b[1;33m*\u001b[0m\u001b[0margs\u001b[0m\u001b[1;33m,\u001b[0m \u001b[1;33m**\u001b[0m\u001b[0mkwargs\u001b[0m\u001b[1;33m)\u001b[0m\u001b[1;33m\u001b[0m\u001b[1;33m\u001b[0m\u001b[0m\n",
      "\u001b[1;32mC:\\Users\\Albizzia\\miniconda3\\envs\\nilmtk-env\\lib\\site-packages\\nilmtk\\datastore\\hdfdatastore.py\u001b[0m in \u001b[0;36m__init__\u001b[1;34m(self, filename, mode)\u001b[0m\n\u001b[0;32m     16\u001b[0m     \u001b[1;32mdef\u001b[0m \u001b[0m__init__\u001b[0m\u001b[1;33m(\u001b[0m\u001b[0mself\u001b[0m\u001b[1;33m,\u001b[0m \u001b[0mfilename\u001b[0m\u001b[1;33m,\u001b[0m \u001b[0mmode\u001b[0m\u001b[1;33m=\u001b[0m\u001b[1;34m\"r\"\u001b[0m\u001b[1;33m)\u001b[0m\u001b[1;33m:\u001b[0m\u001b[1;33m\u001b[0m\u001b[1;33m\u001b[0m\u001b[0m\n\u001b[0;32m     17\u001b[0m         \u001b[1;32mif\u001b[0m \u001b[0mmode\u001b[0m \u001b[1;32min\u001b[0m \u001b[1;33m[\u001b[0m \u001b[1;34m\"r\"\u001b[0m\u001b[1;33m,\u001b[0m \u001b[1;34m\"a\"\u001b[0m \u001b[1;33m]\u001b[0m \u001b[1;32mand\u001b[0m \u001b[1;32mnot\u001b[0m \u001b[0misfile\u001b[0m\u001b[1;33m(\u001b[0m\u001b[0mfilename\u001b[0m\u001b[1;33m)\u001b[0m\u001b[1;33m:\u001b[0m\u001b[1;33m\u001b[0m\u001b[1;33m\u001b[0m\u001b[0m\n\u001b[1;32m---> 18\u001b[1;33m             \u001b[1;32mraise\u001b[0m \u001b[0mIOError\u001b[0m\u001b[1;33m(\u001b[0m\u001b[1;34m\"No such file as \"\u001b[0m \u001b[1;33m+\u001b[0m \u001b[0mfilename\u001b[0m\u001b[1;33m)\u001b[0m\u001b[1;33m\u001b[0m\u001b[1;33m\u001b[0m\u001b[0m\n\u001b[0m\u001b[0;32m     19\u001b[0m \u001b[1;33m\u001b[0m\u001b[0m\n\u001b[0;32m     20\u001b[0m         \u001b[1;32mwith\u001b[0m \u001b[0mwarnings\u001b[0m\u001b[1;33m.\u001b[0m\u001b[0mcatch_warnings\u001b[0m\u001b[1;33m(\u001b[0m\u001b[1;33m)\u001b[0m\u001b[1;33m:\u001b[0m\u001b[1;33m\u001b[0m\u001b[1;33m\u001b[0m\u001b[0m\n",
      "\u001b[1;31mOSError\u001b[0m: No such file as D:\\学习资料\\课程学习资料\\大四\\毕业设计\\NILM算法\\数据库\\ukdale.h5"
     ]
    }
   ],
   "source": [
    "#加载数据\n",
    "data=DataSet('D:\\\\学习资料\\\\课程学习资料\\\\大四\\\\毕业设计\\\\NILM算法\\\\数据库\\\\ukdale.h5')\n",
    "data.set_window(start=\"2012-11-9\",end=\"2013-5-15\")\n",
    "elec=data.buildings[1].elec\n",
    "fridge=elec['fridge']\n",
    "washerdryer=elec['washer dryer']\n",
    "dishwasher=elec['dish washer']\n",
    "kettle=elec['kettle']\n",
    "microwave=elec['microwave']"
   ]
  },
  {
   "cell_type": "code",
   "execution_count": 27,
   "id": "93b0e21f",
   "metadata": {},
   "outputs": [],
   "source": [
    "toaster=elec['toaster']\n",
    "breadmaker=elec['breadmaker']\n",
    "television=elec['television']"
   ]
  },
  {
   "cell_type": "code",
   "execution_count": 96,
   "id": "2181c52d",
   "metadata": {},
   "outputs": [],
   "source": [
    "#对齐时间戳，创建包含各电器的功率和开关情况的数据\n",
    "def creat_data(data,length):\n",
    "    Data=pd.concat([data.power_series_all_data(), next(data.when_on())+0.],axis=1)[0:length]\n",
    "    Data.columns=['active power','switch']\n",
    "    return Data\n",
    "fridge_data=creat_data(fridge,1600000)\n",
    "washerdryer_data=creat_data(washerdryer,1600000)\n",
    "dishwasher_data=creat_data(dishwasher,1600000)\n",
    "kettle_data=creat_data(kettle,1600000)\n",
    "microwave_data=creat_data(microwave,1600000)\n",
    "\n",
    "toaster_data=creat_data(toaster,1600000)#有1600000帧数据\n",
    "breadmaker_data=creat_data(breadmaker,1600000)#有1600000帧数据\n",
    "television_data=creat_data(television,1600000) #有1600000帧数据"
   ]
  },
  {
   "cell_type": "code",
   "execution_count": 97,
   "id": "fc4f3a26",
   "metadata": {},
   "outputs": [],
   "source": [
    "fridge_data.index=washerdryer_data.index=dishwasher_data.index=microwave_data.index=kettle_data.index=toaster_data.index=breadmaker_data.index=television_data.index\n",
    "#对齐时间戳"
   ]
  },
  {
   "cell_type": "code",
   "execution_count": 65,
   "id": "dfc4b023",
   "metadata": {},
   "outputs": [],
   "source": [
    "# activations1=toaster.get_activations() #随机插入activations\n",
    "# activations2=computer_monitor.get_activations()\n",
    "# activations3=breadmaker.get_activations()\n",
    "# activations4=hair_dryer.get_activations()\n",
    "# activations5=television.get_activations()#可识别"
   ]
  },
  {
   "cell_type": "code",
   "execution_count": 98,
   "id": "589ba769",
   "metadata": {},
   "outputs": [],
   "source": [
    "#方案2 ：采用原始数据\n",
    "target=dishwasher\n",
    "target_data=dishwasher_data"
   ]
  },
  {
   "cell_type": "code",
   "execution_count": 99,
   "id": "bdb49f29",
   "metadata": {},
   "outputs": [],
   "source": [
    "#迭代器\n",
    "def generator(data, label, lookback, delay, min_index, max_index, shuffle=False, batch_size=128, step=1):\n",
    "    if max_index is None:\n",
    "        max_index = len(data) - delay - 1\n",
    "    i = min_index + lookback\n",
    "    while 1:\n",
    "        if shuffle:\n",
    "            rows = np.random.randint(min_index + lookback, max_index, size=batch_size)##  随机取最小到最大的整数，宽度为batch_size\n",
    "        else:\n",
    "            if i + batch_size >= max_index:\n",
    "                i = min_index + lookback\n",
    "            rows = np.arange(i, min(i + batch_size, max_index))## 如果数据长度宽度超过最大值，以最大值为宽。\n",
    "            i += len(rows)#如果不是随机的就累加i\n",
    "\n",
    "        samples = np.zeros((len(rows),\n",
    "                            lookback // step,\n",
    "                            data.shape[-1]))## 默认是float类型 长度为108 lookback为20\n",
    "        targets = np.zeros((len(rows),dimension))\n",
    "        for j, row in enumerate(rows):\n",
    "            indices = range(rows[j] - lookback, rows[j], step)\n",
    "            samples[j] = data[indices] ##20个数据\n",
    "            targets[j] = label[rows[j] + delay]\n",
    "        yield samples, targets ##for循环完了后再返回两个值。 sample有128批数据，每一批数据长20."
   ]
  },
  {
   "cell_type": "code",
   "execution_count": 100,
   "id": "d4a8d5c2",
   "metadata": {},
   "outputs": [],
   "source": [
    "#方案2：采用原始数据\n",
    "train_sum=(washerdryer_data+dishwasher_data+kettle_data+microwave_data+fridge_data+toaster_data+breadmaker_data+television_data)[train_start:train_end]['active power']\n",
    "train_sum=train_sum.values.reshape(len(train_sum),1)\n",
    "train_target=target_data[train_start:train_end]['active power'].values.reshape(len(train_sum),1)\n",
    "train_label=np.where(train_target>threshold,1.,0.)\n",
    "\n",
    "val_sum=(washerdryer_data+dishwasher_data+kettle_data+microwave_data+fridge_data+toaster_data+breadmaker_data+television_data)[val_start:val_end]['active power']\n",
    "val_sum=val_sum.values.reshape(len(val_sum),1)\n",
    "val_target=target_data[val_start:val_end]['active power'].values.reshape(len(val_sum),1)\n",
    "val_label=target_data[val_start:val_end]['switch'].values.reshape(len(val_sum),1)\n",
    "\n",
    "test_sum=(washerdryer_data+dishwasher_data+kettle_data+microwave_data+fridge_data+toaster_data+breadmaker_data+television_data)[test_start:test_end]['active power']\n",
    "test_sum=test_sum.values.reshape(len(test_sum),1)\n",
    "test_target=target_data[test_start:test_end]['active power'].values.reshape(len(test_sum),1)\n",
    "test_label=target_data[test_start:test_end]['switch'].values.reshape(len(test_sum),1)"
   ]
  },
  {
   "cell_type": "code",
   "execution_count": 101,
   "id": "701f61e2",
   "metadata": {},
   "outputs": [
    {
     "name": "stdout",
     "output_type": "stream",
     "text": [
      "train: 1106497\n",
      "validation: 390079\n",
      "test: 103424\n"
     ]
    }
   ],
   "source": [
    "print(\"train:\",len(train_sum))\n",
    "print(\"validation:\",len(val_sum))\n",
    "print(\"test:\",len(test_sum))"
   ]
  },
  {
   "cell_type": "code",
   "execution_count": 102,
   "id": "e03bd0e1",
   "metadata": {},
   "outputs": [],
   "source": [
    "# 数据归一化\n",
    "mean1=train_sum.mean(axis=0)\n",
    "train_sum = train_sum -mean1\n",
    "std1 = train_sum.std(axis=0)\n",
    "train_sum /= std1  \n",
    "\n",
    "mean2=val_sum.mean(axis=0)\n",
    "val_sum=val_sum-mean2\n",
    "std2=val_sum.std(axis=0)\n",
    "val_sum /= std2\n",
    "\n",
    "mean3=test_sum.mean(axis=0)\n",
    "test_sum=test_sum-mean3\n",
    "std3=test_sum.std(axis=0)\n",
    "test_sum /=std3"
   ]
  },
  {
   "cell_type": "code",
   "execution_count": 104,
   "id": "a1319b61",
   "metadata": {},
   "outputs": [
    {
     "data": {
      "text/plain": [
       "[<matplotlib.lines.Line2D at 0x26904475b70>]"
      ]
     },
     "execution_count": 104,
     "metadata": {},
     "output_type": "execute_result"
    },
    {
     "data": {
      "image/png": "[encoded data removed]",
      "text/plain": [
       "<Figure size 432x288 with 1 Axes>"
      ]
     },
     "metadata": {
      "needs_background": "light"
     },
     "output_type": "display_data"
    }
   ],
   "source": [
    "plt.plot(train_sum[0:10000])"
   ]
  },
  {
   "cell_type": "code",
   "execution_count": 105,
   "id": "e2c93131",
   "metadata": {},
   "outputs": [
    {
     "name": "stdout",
     "output_type": "stream",
     "text": [
      "train: 0.02533671577961802\n",
      "validation: 0.02534358424831893\n",
      "test: 0.02467512376237624\n"
     ]
    }
   ],
   "source": [
    "#训练集、验证集、测试集中各电器的开启比例\n",
    "print(\"train:\",train_label.sum()/len(train_sum))\n",
    "print(\"validation:\",val_label.sum()/len(val_sum))\n",
    "print(\"test:\",test_label.sum()/len(test_sum))"
   ]
  },
  {
   "cell_type": "code",
   "execution_count": 106,
   "id": "e7088ef5",
   "metadata": {},
   "outputs": [
    {
     "name": "stdout",
     "output_type": "stream",
     "text": [
      "mean= 1017\n",
      "lookback= 256\n",
      "train_steps= 8642\n",
      "val_steps= 3045\n",
      "test_steps= 806\n"
     ]
    }
   ],
   "source": [
    "m=np.zeros(len(activations))\n",
    "n=0\n",
    "for x in activations:\n",
    "    m[n]=len(x)\n",
    "    n+=1\n",
    "mean=ceil(m.mean())#获取activations长度的平均值\n",
    "lookback = 256\n",
    "step = 1\n",
    "delay = 0\n",
    "batch_size = 128\n",
    "train_gen = generator(train_sum,\n",
    "                      train_target,\n",
    "                      lookback=lookback,\n",
    "                      delay=delay,\n",
    "                      min_index=0,\n",
    "                      max_index=None,\n",
    "                      shuffle=True,\n",
    "                      step=step,\n",
    "                      batch_size=batch_size)\n",
    "\n",
    "val_gen = generator(val_sum,\n",
    "                    val_target,\n",
    "                    lookback=lookback,\n",
    "                    delay=delay,\n",
    "                    min_index=0,\n",
    "                    max_index=None,\n",
    "                    step=step,\n",
    "                    batch_size=batch_size)\n",
    "test_gen = generator(test_sum,\n",
    "                    test_target,\n",
    "                    lookback=lookback,\n",
    "                    delay=delay, \n",
    "                    min_index=0,\n",
    "                    max_index=None,\n",
    "                    step=step,\n",
    "                    batch_size=batch_size)\n",
    "train_steps = (len(train_sum)-lookback)// batch_size\n",
    "val_steps = (len(val_sum) -lookback) // batch_size\n",
    "test_steps = (len(test_sum)-lookback) // batch_size\n",
    "print('mean=',mean)\n",
    "print('lookback=',lookback)\n",
    "print('train_steps=',train_steps)\n",
    "print('val_steps=',val_steps)\n",
    "print('test_steps=',test_steps)"
   ]
  },
  {
   "cell_type": "code",
   "execution_count": 76,
   "id": "da2a7aa2",
   "metadata": {},
   "outputs": [],
   "source": [
    "#网络1 \n",
    "model = Sequential()\n",
    "model.add(layers.Conv1D(16, 4, activation='linear', input_shape=(None,train_sum.shape[-1])))\n",
    "model.add(layers.MaxPooling1D(3))\n",
    "model.add(layers.LSTM(32, dropout=0.1))\n",
    "model.add(layers.Dense(1,activation='linear'))\n",
    "model.compile(optimizer=RMSprop(), loss='mse',metrics=['mae'])"
   ]
  },
  {
   "cell_type": "code",
   "execution_count": 208,
   "id": "b798cf87",
   "metadata": {},
   "outputs": [],
   "source": [
    "#网络2\n",
    "model = Sequential()\n",
    "model.add(layers.Conv1D(16, 4, activation='linear', input_shape=(None,train_sum.shape[-1])))\n",
    "model.add(layers.Bidirectional(layers.LSTM(128,return_sequences=True)))\n",
    "model.add(layers.Bidirectional(layers.LSTM(256)))\n",
    "model.add(layers.Dense(128,activation='tanh'))\n",
    "model.add(layers.Dense(1,activation='linear'))\n",
    "model.compile(optimizer=RMSprop(), loss='mse',metrics=['mae'])"
   ]
  },
  {
   "cell_type": "code",
   "execution_count": 115,
   "id": "7a53d0ca",
   "metadata": {},
   "outputs": [],
   "source": [
    "#网络3\n",
    "model = Sequential()\n",
    "model.add(layers.Conv1D(16, 4, activation='linear', input_shape=(None,train_sum.shape[-1])))\n",
    "model.add(layers.MaxPooling1D(3))\n",
    "model.add(layers.Bidirectional(layers.LSTM(32)))\n",
    "model.add(layers.Dense(128,activation='tanh'))\n",
    "model.add(layers.Dropout(0.1))\n",
    "model.add(layers.Dense(1,activation='relu'))\n",
    "model.compile(optimizer=RMSprop(), loss='mse',metrics=['mae'])"
   ]
  },
  {
   "cell_type": "code",
   "execution_count": 116,
   "id": "a4dcdcdf",
   "metadata": {},
   "outputs": [
    {
     "name": "stdout",
     "output_type": "stream",
     "text": [
      "Model: \"sequential_7\"\n",
      "_________________________________________________________________\n",
      "Layer (type)                 Output Shape              Param #   \n",
      "=================================================================\n",
      "conv1d_7 (Conv1D)            (None, None, 16)          80        \n",
      "_________________________________________________________________\n",
      "max_pooling1d_7 (MaxPooling1 (None, None, 16)          0         \n",
      "_________________________________________________________________\n",
      "bidirectional_7 (Bidirection (None, 64)                12544     \n",
      "_________________________________________________________________\n",
      "dense_7 (Dense)              (None, 128)               8320      \n",
      "_________________________________________________________________\n",
      "dropout (Dropout)            (None, 128)               0         \n",
      "_________________________________________________________________\n",
      "dense_8 (Dense)              (None, 1)                 129       \n",
      "=================================================================\n",
      "Total params: 21,073\n",
      "Trainable params: 21,073\n",
      "Non-trainable params: 0\n",
      "_________________________________________________________________\n",
      "None\n"
     ]
    }
   ],
   "source": [
    "print(model.summary())"
   ]
  },
  {
   "cell_type": "code",
   "execution_count": 17,
   "id": "6bade97d",
   "metadata": {},
   "outputs": [],
   "source": [
    "## 保存训练过程中每一步的weights\n",
    "filepath=\"D:\\\\pythonProject\\\\Exercise Codes\\\\新数据集训练\\\\电器功率分解\\\\22-4-7-dishwasher-cov+bi-lstm\\\\22-4-7-ModelWeights-epoch{epoch:.0f}-val_mae{val_mae:.4f}.hdf5\"\n",
    "checkpoint=ModelCheckpoint(filepath,mode='auto',monitor='val_mae')"
   ]
  },
  {
   "cell_type": "code",
   "execution_count": null,
   "id": "334ef404",
   "metadata": {},
   "outputs": [
    {
     "name": "stdout",
     "output_type": "stream",
     "text": [
      " 193/8642 [..............................] - ETA: 15:46 - loss: 46708.0981 - mae: 25.3256"
     ]
    }
   ],
   "source": [
    "history=model.fit(train_gen,\n",
    "                  steps_per_epoch=train_steps,\n",
    "                  epochs=1,\n",
    "#                   callbacks=[checkpoint],\n",
    "                  validation_data=val_gen,\n",
    "                  validation_steps=val_steps)"
   ]
  },
  {
   "cell_type": "code",
   "execution_count": 20,
   "id": "a4dff66d",
   "metadata": {},
   "outputs": [],
   "source": [
    "# 保存history\n",
    "import pickle\n",
    "with open('D:\\\\pythonProject\\\\Exercise Codes\\\\新数据集训练\\\\电器功率分解\\\\22-4-7-dishwasher-cov+bi-lstm\\\\history.txt', 'wb') as file_txt:\n",
    "    pickle.dump(history.history, file_txt)\n",
    "#保存model\n",
    "model.save('D:\\\\pythonProject\\\\Exercise Codes\\\\新数据集训练\\\\电器功率分解\\\\22-4-7-dishwasher-cov+bi-lstm\\\\ 22-4-7-dishwasher-cov+bi-lstm.h5')"
   ]
  },
  {
   "cell_type": "code",
   "execution_count": 21,
   "id": "284f4790",
   "metadata": {},
   "outputs": [
    {
     "data": {
      "image/png": "[encoded data removed]",
      "text/plain": [
       "<Figure size 432x288 with 1 Axes>"
      ]
     },
     "metadata": {
      "needs_background": "light"
     },
     "output_type": "display_data"
    },
    {
     "data": {
      "image/png": "[encoded data removed]",
      "text/plain": [
       "<Figure size 432x288 with 1 Axes>"
      ]
     },
     "metadata": {
      "needs_background": "light"
     },
     "output_type": "display_data"
    }
   ],
   "source": [
    "loss = history.history['loss']\n",
    "val_loss = history.history['val_loss']\n",
    "\n",
    "epochs = range(1, len(loss) + 1)\n",
    "\n",
    "plt.plot(epochs, loss, '-bo', label='Training loss')\n",
    "plt.plot(epochs, val_loss, '-ro', label='Validation loss')\n",
    "plt.title('Training and Validation loss')\n",
    "xlabel=('Epoch')\n",
    "ylabel=('loss')\n",
    "plt.legend()\n",
    "plt.show()\n",
    "\n",
    "plt.clf()  # 清空图表\n",
    "\n",
    "mae= history.history['mae']\n",
    "val_mae = history.history['val_mae']\n",
    "\n",
    "plt.plot(epochs,mae,'-bo', label='Training mae')  # bo是蓝色圆点\n",
    "plt.plot(epochs,val_mae,'-ro',label='Validation mae')  # b是蓝色实线\n",
    "plt.title('Training and validation mae')\n",
    "xlabel=('Epoch')\n",
    "ylabel=('mae')\n",
    "plt.legend()\n",
    "plt.show()\n"
   ]
  },
  {
   "cell_type": "code",
   "execution_count": null,
   "id": "38ab18f2",
   "metadata": {},
   "outputs": [],
   "source": [
    "##对其时间轴\n",
    "test_sum_data=test_sum[0+lookback:] \n",
    "test_target_data=test_target[0+lookback:] ##对齐时间轴\n",
    "##数据复原\n",
    "test_sum_data_real=test_sum_data*std1+mean1\n",
    "\n",
    "\n",
    "plt.plot(test_sum_data_real[6200:6500,0],'-r',label='aggregate power') \n",
    "plt.plot(test_target_data[6200:6500,0],'g',label='ground truth power') \n",
    "plt.plot(test_predict[6200:6500,0],'-b',label='predict power')\n",
    "plt.legend()"
   ]
  }
 ],
 "metadata": {
  "kernelspec": {
   "display_name": "Python 3",
   "language": "python",
   "name": "python3"
  },
  "language_info": {
   "codemirror_mode": {
    "name": "ipython",
    "version": 3
   },
   "file_extension": ".py",
   "mimetype": "text/x-python",
   "name": "python",
   "nbconvert_exporter": "python",
   "pygments_lexer": "ipython3",
   "version": "3.6.13"
  }
 },
 "nbformat": 4,
 "nbformat_minor": 5
}
